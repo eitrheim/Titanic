{
 "cells": [
  {
   "cell_type": "code",
   "execution_count": 1,
   "metadata": {},
   "outputs": [],
   "source": [
    "import pandas as pd\n",
    "import numpy as np\n",
    "import matplotlib.pyplot as plt\n",
    "import seaborn as sns; sns.set()\n",
    "import warnings\n",
    "warnings.filterwarnings(\"ignore\")"
   ]
  },
  {
   "cell_type": "markdown",
   "metadata": {},
   "source": [
    "### Step 1:\n",
    "Preprocess the data. Selection/generation/ transformation of categorical variables, useful variables etc all your discretion."
   ]
  },
  {
   "cell_type": "code",
   "execution_count": 78,
   "metadata": {},
   "outputs": [],
   "source": [
    "#load the data\n",
    "test = pd.read_csv('holdout_test.csv')\n",
    "train = pd.read_csv('train.csv')"
   ]
  },
  {
   "cell_type": "code",
   "execution_count": 79,
   "metadata": {},
   "outputs": [],
   "source": [
    "#drop columns that are not useful\n",
    "train = train.drop(columns=['Ticket'])\n",
    "test = test.drop(columns=['Ticket'])\n",
    "train = train.drop(columns=['PassengerId'])"
   ]
  },
  {
   "cell_type": "code",
   "execution_count": 80,
   "metadata": {},
   "outputs": [],
   "source": [
    "#make dummy variables\n",
    "train['Sex'] = train['Sex'].map( {'female': 0, 'male': 1} ).astype(int)\n",
    "test['Sex'] = test['Sex'].map( {'female': 0, 'male': 1} ).astype(int)"
   ]
  },
  {
   "cell_type": "code",
   "execution_count": 81,
   "metadata": {
    "scrolled": true
   },
   "outputs": [
    {
     "data": {
      "text/html": [
       "<div>\n",
       "<style scoped>\n",
       "    .dataframe tbody tr th:only-of-type {\n",
       "        vertical-align: middle;\n",
       "    }\n",
       "\n",
       "    .dataframe tbody tr th {\n",
       "        vertical-align: top;\n",
       "    }\n",
       "\n",
       "    .dataframe thead th {\n",
       "        text-align: right;\n",
       "    }\n",
       "</style>\n",
       "<table border=\"1\" class=\"dataframe\">\n",
       "  <thead>\n",
       "    <tr style=\"text-align: right;\">\n",
       "      <th></th>\n",
       "      <th>SibSp</th>\n",
       "      <th>Survived</th>\n",
       "    </tr>\n",
       "  </thead>\n",
       "  <tbody>\n",
       "    <tr>\n",
       "      <th>1</th>\n",
       "      <td>1</td>\n",
       "      <td>0.535885</td>\n",
       "    </tr>\n",
       "    <tr>\n",
       "      <th>2</th>\n",
       "      <td>2</td>\n",
       "      <td>0.464286</td>\n",
       "    </tr>\n",
       "    <tr>\n",
       "      <th>0</th>\n",
       "      <td>0</td>\n",
       "      <td>0.345395</td>\n",
       "    </tr>\n",
       "    <tr>\n",
       "      <th>3</th>\n",
       "      <td>3</td>\n",
       "      <td>0.250000</td>\n",
       "    </tr>\n",
       "    <tr>\n",
       "      <th>4</th>\n",
       "      <td>4</td>\n",
       "      <td>0.166667</td>\n",
       "    </tr>\n",
       "    <tr>\n",
       "      <th>5</th>\n",
       "      <td>5</td>\n",
       "      <td>0.000000</td>\n",
       "    </tr>\n",
       "    <tr>\n",
       "      <th>6</th>\n",
       "      <td>8</td>\n",
       "      <td>0.000000</td>\n",
       "    </tr>\n",
       "  </tbody>\n",
       "</table>\n",
       "</div>"
      ],
      "text/plain": [
       "   SibSp  Survived\n",
       "1      1  0.535885\n",
       "2      2  0.464286\n",
       "0      0  0.345395\n",
       "3      3  0.250000\n",
       "4      4  0.166667\n",
       "5      5  0.000000\n",
       "6      8  0.000000"
      ]
     },
     "execution_count": 81,
     "metadata": {},
     "output_type": "execute_result"
    }
   ],
   "source": [
    "train[[\"SibSp\", \"Survived\"]].groupby(['SibSp'], as_index=False).mean().sort_values(by='Survived', ascending=False)"
   ]
  },
  {
   "cell_type": "code",
   "execution_count": 82,
   "metadata": {},
   "outputs": [
    {
     "data": {
      "image/png": "[encoded data removed]",
      "text/plain": [
       "<Figure size 432x288 with 1 Axes>"
      ]
     },
     "metadata": {},
     "output_type": "display_data"
    }
   ],
   "source": [
    "import matplotlib.pyplot as plt\n",
    "df=train[[\"SibSp\", \"Survived\"]].groupby(['SibSp'], as_index=False).mean().sort_values(by='Survived', ascending=False)\n",
    "plt.scatter(df.SibSp,df.Survived)\n",
    "plt.xlabel('SibSp')\n",
    "plt.ylabel('Percent Survived')\n",
    "plt.show()"
   ]
  },
  {
   "cell_type": "code",
   "execution_count": 83,
   "metadata": {},
   "outputs": [
    {
     "data": {
      "text/html": [
       "<div>\n",
       "<style scoped>\n",
       "    .dataframe tbody tr th:only-of-type {\n",
       "        vertical-align: middle;\n",
       "    }\n",
       "\n",
       "    .dataframe tbody tr th {\n",
       "        vertical-align: top;\n",
       "    }\n",
       "\n",
       "    .dataframe thead th {\n",
       "        text-align: right;\n",
       "    }\n",
       "</style>\n",
       "<table border=\"1\" class=\"dataframe\">\n",
       "  <thead>\n",
       "    <tr style=\"text-align: right;\">\n",
       "      <th></th>\n",
       "      <th>Parch</th>\n",
       "      <th>Survived</th>\n",
       "    </tr>\n",
       "  </thead>\n",
       "  <tbody>\n",
       "    <tr>\n",
       "      <th>3</th>\n",
       "      <td>3</td>\n",
       "      <td>0.600000</td>\n",
       "    </tr>\n",
       "    <tr>\n",
       "      <th>1</th>\n",
       "      <td>1</td>\n",
       "      <td>0.550847</td>\n",
       "    </tr>\n",
       "    <tr>\n",
       "      <th>2</th>\n",
       "      <td>2</td>\n",
       "      <td>0.500000</td>\n",
       "    </tr>\n",
       "    <tr>\n",
       "      <th>0</th>\n",
       "      <td>0</td>\n",
       "      <td>0.343658</td>\n",
       "    </tr>\n",
       "    <tr>\n",
       "      <th>5</th>\n",
       "      <td>5</td>\n",
       "      <td>0.200000</td>\n",
       "    </tr>\n",
       "    <tr>\n",
       "      <th>4</th>\n",
       "      <td>4</td>\n",
       "      <td>0.000000</td>\n",
       "    </tr>\n",
       "    <tr>\n",
       "      <th>6</th>\n",
       "      <td>6</td>\n",
       "      <td>0.000000</td>\n",
       "    </tr>\n",
       "  </tbody>\n",
       "</table>\n",
       "</div>"
      ],
      "text/plain": [
       "   Parch  Survived\n",
       "3      3  0.600000\n",
       "1      1  0.550847\n",
       "2      2  0.500000\n",
       "0      0  0.343658\n",
       "5      5  0.200000\n",
       "4      4  0.000000\n",
       "6      6  0.000000"
      ]
     },
     "execution_count": 83,
     "metadata": {},
     "output_type": "execute_result"
    }
   ],
   "source": [
    "train[[\"Parch\", \"Survived\"]].groupby(['Parch'], as_index=False).mean().sort_values(by='Survived', ascending=False)"
   ]
  },
  {
   "cell_type": "code",
   "execution_count": 84,
   "metadata": {},
   "outputs": [
    {
     "data": {
      "text/plain": [
       "Text(0,0.5,'Percent Survived')"
      ]
     },
     "execution_count": 84,
     "metadata": {},
     "output_type": "execute_result"
    },
    {
     "data": {
      "image/png": "[encoded data removed]",
      "text/plain": [
       "<Figure size 432x288 with 1 Axes>"
      ]
     },
     "metadata": {},
     "output_type": "display_data"
    }
   ],
   "source": [
    "df = pd.DataFrame()\n",
    "df['Combined'] = (train.Parch + train.SibSp)\n",
    "df['Survived'] = train.Survived\n",
    "df = df[[\"Combined\", \"Survived\"]].groupby(['Combined'], as_index=False).mean()\n",
    "\n",
    "plt.scatter(df.Combined,df.Survived)\n",
    "plt.xlabel('Comb')\n",
    "plt.ylabel('Percent Survived')"
   ]
  },
  {
   "cell_type": "code",
   "execution_count": 85,
   "metadata": {},
   "outputs": [],
   "source": [
    "#filling in missing ages\n",
    "Ages = pd.concat([train['Age'], test['Age']])\n",
    "AveAge = Ages.mean()\n",
    "StdAge = Ages.std()\n",
    "NullAgeCount1 = train.Age.isnull().sum()\n",
    "RandAges1 = np.random.randint(AveAge - StdAge, AveAge + StdAge, size=NullAgeCount1)\n",
    "NullAgeCount2 = test.Age.isnull().sum()\n",
    "RandAges2 = np.random.randint(AveAge - StdAge, AveAge + StdAge, size=NullAgeCount2)\n",
    "train.Age[train.Age.isna()] = RandAges1\n",
    "train.Age = train.Age.astype(int)\n",
    "test.Age[test.Age.isna()] = RandAges2\n",
    "test.Age = test.Age.astype(int)"
   ]
  },
  {
   "cell_type": "code",
   "execution_count": 86,
   "metadata": {
    "scrolled": false
   },
   "outputs": [
    {
     "data": {
      "text/plain": [
       "Text(0,0.5,'Percent Survived')"
      ]
     },
     "execution_count": 86,
     "metadata": {},
     "output_type": "execute_result"
    },
    {
     "data": {
      "image/png": "[encoded data removed]",
      "text/plain": [
       "<Figure size 864x432 with 1 Axes>"
      ]
     },
     "metadata": {},
     "output_type": "display_data"
    }
   ],
   "source": [
    "df=train[[\"Age\", \"Survived\"]].groupby(['Age'], as_index=False).mean().sort_values(by='Survived', ascending=False)\n",
    "\n",
    "plt.figure(figsize=(12,6))\n",
    "plt.scatter(df.Age,df.Survived)\n",
    "plt.xlabel('Age')\n",
    "plt.ylabel('Percent Survived')"
   ]
  },
  {
   "cell_type": "code",
   "execution_count": 87,
   "metadata": {},
   "outputs": [],
   "source": [
    "#filling in a missing fare\n",
    "Fares = pd.concat([train['Fare'], test['Fare']])\n",
    "test.Fare[test.Fare.isna()] = Fares.median()"
   ]
  },
  {
   "cell_type": "code",
   "execution_count": 88,
   "metadata": {},
   "outputs": [
    {
     "data": {
      "image/png": "[encoded data removed]",
      "text/plain": [
       "<Figure size 432x288 with 1 Axes>"
      ]
     },
     "metadata": {},
     "output_type": "display_data"
    }
   ],
   "source": [
    "#looking at distribution of fare\n",
    "ax = sns.distplot(train['Fare'], kde=True, rug=True, bins=10)"
   ]
  },
  {
   "cell_type": "code",
   "execution_count": 89,
   "metadata": {},
   "outputs": [],
   "source": [
    "#log transformation of fare\n",
    "train.Fare = train.Fare.map(lambda i: np.log(i) if i > 0 else 0)\n",
    "test.Fare = test.Fare.map(lambda i: np.log(i) if i > 0 else 0)"
   ]
  },
  {
   "cell_type": "code",
   "execution_count": 90,
   "metadata": {},
   "outputs": [
    {
     "data": {
      "image/png": "[encoded data removed]",
      "text/plain": [
       "<Figure size 432x288 with 1 Axes>"
      ]
     },
     "metadata": {},
     "output_type": "display_data"
    }
   ],
   "source": [
    "ax = sns.distplot(train['Fare'], kde=True, rug=True, bins=10)"
   ]
  },
  {
   "cell_type": "code",
   "execution_count": 91,
   "metadata": {},
   "outputs": [
    {
     "data": {
      "text/plain": [
       "Text(0,0.5,'Percent Survived')"
      ]
     },
     "execution_count": 91,
     "metadata": {},
     "output_type": "execute_result"
    },
    {
     "data": {
      "image/png": "[encoded data removed]",
      "text/plain": [
       "<Figure size 432x288 with 1 Axes>"
      ]
     },
     "metadata": {},
     "output_type": "display_data"
    }
   ],
   "source": [
    "df = train[[\"Fare\", \"Survived\"]].groupby(['Fare'], as_index=False).mean().sort_values(by='Survived', ascending=False)\n",
    "plt.scatter(df.Fare,df.Survived)\n",
    "plt.xlabel('Fare')\n",
    "plt.ylabel('Percent Survived')"
   ]
  },
  {
   "cell_type": "code",
   "execution_count": 92,
   "metadata": {},
   "outputs": [],
   "source": [
    "#filling missing embarked values to \"S\" which is the most common\n",
    "train.Embarked[train.Embarked.isna()] = \"S\""
   ]
  },
  {
   "cell_type": "code",
   "execution_count": 93,
   "metadata": {},
   "outputs": [
    {
     "data": {
      "text/html": [
       "<div>\n",
       "<style scoped>\n",
       "    .dataframe tbody tr th:only-of-type {\n",
       "        vertical-align: middle;\n",
       "    }\n",
       "\n",
       "    .dataframe tbody tr th {\n",
       "        vertical-align: top;\n",
       "    }\n",
       "\n",
       "    .dataframe thead th {\n",
       "        text-align: right;\n",
       "    }\n",
       "</style>\n",
       "<table border=\"1\" class=\"dataframe\">\n",
       "  <thead>\n",
       "    <tr style=\"text-align: right;\">\n",
       "      <th></th>\n",
       "      <th>Embarked</th>\n",
       "      <th>Survived</th>\n",
       "    </tr>\n",
       "  </thead>\n",
       "  <tbody>\n",
       "    <tr>\n",
       "      <th>1</th>\n",
       "      <td>1</td>\n",
       "      <td>0.502041</td>\n",
       "    </tr>\n",
       "    <tr>\n",
       "      <th>0</th>\n",
       "      <td>0</td>\n",
       "      <td>0.339009</td>\n",
       "    </tr>\n",
       "  </tbody>\n",
       "</table>\n",
       "</div>"
      ],
      "text/plain": [
       "   Embarked  Survived\n",
       "1         1  0.502041\n",
       "0         0  0.339009"
      ]
     },
     "execution_count": 93,
     "metadata": {},
     "output_type": "execute_result"
    }
   ],
   "source": [
    "#make dummy variables\n",
    "train['Embarked'] = train['Embarked'].map( {'S': 0, 'C': 1, 'Q': 1} ).astype(int)\n",
    "test['Embarked'] = test['Embarked'].map( {'S': 0, 'C': 1, 'Q': 1} ).astype(int)\n",
    "train[[\"Embarked\", \"Survived\"]].groupby(['Embarked'], as_index=False).mean().sort_values(by='Survived', ascending=False)"
   ]
  },
  {
   "cell_type": "code",
   "execution_count": 94,
   "metadata": {},
   "outputs": [],
   "source": [
    "#first letter of cabin shows which deck the passenger was on\n",
    "\n",
    "import re\n",
    "deck = {\"A\": 1, \"B\": 2, \"C\": 3, \"D\": 4, \"E\": 5, \"F\": 6, \"G\": 7, \"U\": 8}\n",
    "train['Cabin'] = train['Cabin'].fillna(\"U0\")\n",
    "train['Deck'] = train['Cabin'].map(lambda x: re.compile(\"([a-zA-Z]+)\").search(x).group())\n",
    "train['Deck'] = train['Deck'].map(deck)\n",
    "train['Deck'] = train['Deck'].fillna(8)\n",
    "train['Deck'] = train['Deck'].astype(int)\n",
    "\n",
    "test['Cabin'] = test['Cabin'].fillna(\"U0\")\n",
    "test['Deck'] = test['Cabin'].map(lambda x: re.compile(\"([a-zA-Z]+)\").search(x).group())\n",
    "test['Deck'] = test['Deck'].map(deck)\n",
    "test['Deck'] = test['Deck'].fillna(8)\n",
    "test['Deck'] = test['Deck'].astype(int) "
   ]
  },
  {
   "cell_type": "code",
   "execution_count": 95,
   "metadata": {},
   "outputs": [
    {
     "data": {
      "text/plain": [
       "Text(0,0.5,'Percent Survived')"
      ]
     },
     "execution_count": 95,
     "metadata": {},
     "output_type": "execute_result"
    },
    {
     "data": {
      "image/png": "[encoded data removed]",
      "text/plain": [
       "<Figure size 432x288 with 1 Axes>"
      ]
     },
     "metadata": {},
     "output_type": "display_data"
    }
   ],
   "source": [
    "df = train[[\"Deck\", \"Survived\"]].groupby(['Deck'], as_index=False).mean().sort_values(by='Survived', ascending=False)\n",
    "plt.scatter(df.Deck,df.Survived)\n",
    "plt.xlabel('Deck')\n",
    "plt.ylabel('Percent Survived')"
   ]
  },
  {
   "cell_type": "code",
   "execution_count": 96,
   "metadata": {},
   "outputs": [
    {
     "data": {
      "text/html": [
       "<div>\n",
       "<style scoped>\n",
       "    .dataframe tbody tr th:only-of-type {\n",
       "        vertical-align: middle;\n",
       "    }\n",
       "\n",
       "    .dataframe tbody tr th {\n",
       "        vertical-align: top;\n",
       "    }\n",
       "\n",
       "    .dataframe thead th {\n",
       "        text-align: right;\n",
       "    }\n",
       "</style>\n",
       "<table border=\"1\" class=\"dataframe\">\n",
       "  <thead>\n",
       "    <tr style=\"text-align: right;\">\n",
       "      <th></th>\n",
       "      <th>Cabin</th>\n",
       "      <th>Survived</th>\n",
       "    </tr>\n",
       "  </thead>\n",
       "  <tbody>\n",
       "    <tr>\n",
       "      <th>1</th>\n",
       "      <td>1</td>\n",
       "      <td>0.669951</td>\n",
       "    </tr>\n",
       "    <tr>\n",
       "      <th>0</th>\n",
       "      <td>0</td>\n",
       "      <td>0.299419</td>\n",
       "    </tr>\n",
       "  </tbody>\n",
       "</table>\n",
       "</div>"
      ],
      "text/plain": [
       "   Cabin  Survived\n",
       "1      1  0.669951\n",
       "0      0  0.299419"
      ]
     },
     "execution_count": 96,
     "metadata": {},
     "output_type": "execute_result"
    }
   ],
   "source": [
    "#did they have a cabin or not\n",
    "train.Cabin[train.Deck == 8] = 0\n",
    "train.Cabin[train.Deck < 8] = 1\n",
    "train.Cabin = train.Cabin.astype(int)\n",
    "\n",
    "test.Cabin[train.Deck == 8] = 0\n",
    "test.Cabin[train.Deck < 8] = 1\n",
    "test.Cabin = test.Cabin.astype(int)\n",
    "train[[\"Cabin\", \"Survived\"]].groupby(['Cabin'], as_index=False).mean().sort_values(by='Survived', ascending=False)"
   ]
  },
  {
   "cell_type": "code",
   "execution_count": 97,
   "metadata": {
    "scrolled": true
   },
   "outputs": [],
   "source": [
    "#making them into categorical data\n",
    "train.Pclass = train.Pclass.astype('category')\n",
    "train.Sex = train.Sex.astype('category')\n",
    "train.Cabin = train.Cabin.astype('category')\n",
    "train.Embarked = train.Embarked.astype('category')\n",
    "\n",
    "test.Pclass = test.Pclass.astype('category')\n",
    "test.Sex = test.Sex.astype('category')\n",
    "test.Cabin = test.Cabin.astype('category')\n",
    "test.Embarked = test.Embarked.astype('category')"
   ]
  },
  {
   "cell_type": "code",
   "execution_count": 98,
   "metadata": {},
   "outputs": [
    {
     "data": {
      "text/plain": [
       "Text(0,0.5,'Percent Survived')"
      ]
     },
     "execution_count": 98,
     "metadata": {},
     "output_type": "execute_result"
    },
    {
     "data": {
      "image/png": "[encoded data removed]",
      "text/plain": [
       "<Figure size 432x288 with 1 Axes>"
      ]
     },
     "metadata": {},
     "output_type": "display_data"
    }
   ],
   "source": [
    "df = train[[\"Fare\", \"Survived\"]]\n",
    "df.Fare = round(test.Fare,1)\n",
    "df = train[[\"Fare\", \"Survived\"]].groupby(['Fare'], as_index=False).mean()\n",
    "plt.scatter(df.Fare,df.Survived)\n",
    "plt.xlabel('Fare')\n",
    "plt.ylabel('Percent Survived')"
   ]
  },
  {
   "cell_type": "code",
   "execution_count": 99,
   "metadata": {},
   "outputs": [],
   "source": [
    "train['Title'] = train.Name.apply(lambda name: name.split(',')[1].split('.')[0].strip())\n",
    "test['Title'] = test.Name.apply(lambda name: name.split(',')[1].split('.')[0].strip())"
   ]
  },
  {
   "cell_type": "code",
   "execution_count": 100,
   "metadata": {},
   "outputs": [
    {
     "data": {
      "text/html": [
       "<div>\n",
       "<style scoped>\n",
       "    .dataframe tbody tr th:only-of-type {\n",
       "        vertical-align: middle;\n",
       "    }\n",
       "\n",
       "    .dataframe tbody tr th {\n",
       "        vertical-align: top;\n",
       "    }\n",
       "\n",
       "    .dataframe thead th {\n",
       "        text-align: right;\n",
       "    }\n",
       "</style>\n",
       "<table border=\"1\" class=\"dataframe\">\n",
       "  <thead>\n",
       "    <tr style=\"text-align: right;\">\n",
       "      <th></th>\n",
       "      <th>Title</th>\n",
       "      <th>Survived</th>\n",
       "    </tr>\n",
       "  </thead>\n",
       "  <tbody>\n",
       "    <tr>\n",
       "      <th>16</th>\n",
       "      <td>the Countess</td>\n",
       "      <td>1.000000</td>\n",
       "    </tr>\n",
       "    <tr>\n",
       "      <th>9</th>\n",
       "      <td>Mlle</td>\n",
       "      <td>1.000000</td>\n",
       "    </tr>\n",
       "    <tr>\n",
       "      <th>15</th>\n",
       "      <td>Sir</td>\n",
       "      <td>1.000000</td>\n",
       "    </tr>\n",
       "    <tr>\n",
       "      <th>13</th>\n",
       "      <td>Ms</td>\n",
       "      <td>1.000000</td>\n",
       "    </tr>\n",
       "    <tr>\n",
       "      <th>5</th>\n",
       "      <td>Lady</td>\n",
       "      <td>1.000000</td>\n",
       "    </tr>\n",
       "    <tr>\n",
       "      <th>10</th>\n",
       "      <td>Mme</td>\n",
       "      <td>1.000000</td>\n",
       "    </tr>\n",
       "    <tr>\n",
       "      <th>12</th>\n",
       "      <td>Mrs</td>\n",
       "      <td>0.792000</td>\n",
       "    </tr>\n",
       "    <tr>\n",
       "      <th>8</th>\n",
       "      <td>Miss</td>\n",
       "      <td>0.697802</td>\n",
       "    </tr>\n",
       "    <tr>\n",
       "      <th>7</th>\n",
       "      <td>Master</td>\n",
       "      <td>0.575000</td>\n",
       "    </tr>\n",
       "    <tr>\n",
       "      <th>1</th>\n",
       "      <td>Col</td>\n",
       "      <td>0.500000</td>\n",
       "    </tr>\n",
       "    <tr>\n",
       "      <th>6</th>\n",
       "      <td>Major</td>\n",
       "      <td>0.500000</td>\n",
       "    </tr>\n",
       "    <tr>\n",
       "      <th>3</th>\n",
       "      <td>Dr</td>\n",
       "      <td>0.428571</td>\n",
       "    </tr>\n",
       "    <tr>\n",
       "      <th>11</th>\n",
       "      <td>Mr</td>\n",
       "      <td>0.156673</td>\n",
       "    </tr>\n",
       "    <tr>\n",
       "      <th>4</th>\n",
       "      <td>Jonkheer</td>\n",
       "      <td>0.000000</td>\n",
       "    </tr>\n",
       "    <tr>\n",
       "      <th>14</th>\n",
       "      <td>Rev</td>\n",
       "      <td>0.000000</td>\n",
       "    </tr>\n",
       "    <tr>\n",
       "      <th>2</th>\n",
       "      <td>Don</td>\n",
       "      <td>0.000000</td>\n",
       "    </tr>\n",
       "    <tr>\n",
       "      <th>0</th>\n",
       "      <td>Capt</td>\n",
       "      <td>0.000000</td>\n",
       "    </tr>\n",
       "  </tbody>\n",
       "</table>\n",
       "</div>"
      ],
      "text/plain": [
       "           Title  Survived\n",
       "16  the Countess  1.000000\n",
       "9           Mlle  1.000000\n",
       "15           Sir  1.000000\n",
       "13            Ms  1.000000\n",
       "5           Lady  1.000000\n",
       "10           Mme  1.000000\n",
       "12           Mrs  0.792000\n",
       "8           Miss  0.697802\n",
       "7         Master  0.575000\n",
       "1            Col  0.500000\n",
       "6          Major  0.500000\n",
       "3             Dr  0.428571\n",
       "11            Mr  0.156673\n",
       "4       Jonkheer  0.000000\n",
       "14           Rev  0.000000\n",
       "2            Don  0.000000\n",
       "0           Capt  0.000000"
      ]
     },
     "execution_count": 100,
     "metadata": {},
     "output_type": "execute_result"
    }
   ],
   "source": [
    "train[[\"Title\", \"Survived\"]].groupby(['Title'], as_index=False).mean().sort_values(by='Survived', ascending=False)"
   ]
  },
  {
   "cell_type": "code",
   "execution_count": 101,
   "metadata": {},
   "outputs": [],
   "source": [
    "titles = {\"Capt\":0,\"Jonkheer\":0,\"Rev\":0,\"Don\":0,\"Col\":1,\"Major\":1,\"Sir\":2,\"Dr\":3,\"the Countess\":4,\"Mme\":4,\"Mlle\":4,\"Dona\":4,\"Ms\":4,\"Lady\":4,\"Mr\":5,\"Mrs\":6,\"Miss\":7,\"Master\":8}\n",
    "\n",
    "train.Title = train.Title.map(titles)\n",
    "train.Title = train.Title.astype('category')\n",
    "test.Title = test.Title.map(titles)\n",
    "test.Title = test.Title.astype('category')"
   ]
  },
  {
   "cell_type": "code",
   "execution_count": 102,
   "metadata": {
    "scrolled": false
   },
   "outputs": [
    {
     "data": {
      "text/html": [
       "<div>\n",
       "<style scoped>\n",
       "    .dataframe tbody tr th:only-of-type {\n",
       "        vertical-align: middle;\n",
       "    }\n",
       "\n",
       "    .dataframe tbody tr th {\n",
       "        vertical-align: top;\n",
       "    }\n",
       "\n",
       "    .dataframe thead th {\n",
       "        text-align: right;\n",
       "    }\n",
       "</style>\n",
       "<table border=\"1\" class=\"dataframe\">\n",
       "  <thead>\n",
       "    <tr style=\"text-align: right;\">\n",
       "      <th></th>\n",
       "      <th>Survived</th>\n",
       "      <th>Pclass</th>\n",
       "      <th>Sex</th>\n",
       "      <th>Age</th>\n",
       "      <th>SibSp</th>\n",
       "      <th>Parch</th>\n",
       "      <th>Fare</th>\n",
       "      <th>Cabin</th>\n",
       "      <th>Embarked</th>\n",
       "      <th>Deck</th>\n",
       "      <th>Title</th>\n",
       "    </tr>\n",
       "  </thead>\n",
       "  <tbody>\n",
       "    <tr>\n",
       "      <th>0</th>\n",
       "      <td>0</td>\n",
       "      <td>3</td>\n",
       "      <td>1</td>\n",
       "      <td>22</td>\n",
       "      <td>1</td>\n",
       "      <td>0</td>\n",
       "      <td>1.981001</td>\n",
       "      <td>0</td>\n",
       "      <td>0</td>\n",
       "      <td>8</td>\n",
       "      <td>5</td>\n",
       "    </tr>\n",
       "    <tr>\n",
       "      <th>1</th>\n",
       "      <td>1</td>\n",
       "      <td>1</td>\n",
       "      <td>0</td>\n",
       "      <td>38</td>\n",
       "      <td>1</td>\n",
       "      <td>0</td>\n",
       "      <td>4.266662</td>\n",
       "      <td>1</td>\n",
       "      <td>1</td>\n",
       "      <td>3</td>\n",
       "      <td>6</td>\n",
       "    </tr>\n",
       "    <tr>\n",
       "      <th>2</th>\n",
       "      <td>1</td>\n",
       "      <td>3</td>\n",
       "      <td>0</td>\n",
       "      <td>26</td>\n",
       "      <td>0</td>\n",
       "      <td>0</td>\n",
       "      <td>2.070022</td>\n",
       "      <td>0</td>\n",
       "      <td>0</td>\n",
       "      <td>8</td>\n",
       "      <td>7</td>\n",
       "    </tr>\n",
       "    <tr>\n",
       "      <th>3</th>\n",
       "      <td>1</td>\n",
       "      <td>1</td>\n",
       "      <td>0</td>\n",
       "      <td>35</td>\n",
       "      <td>1</td>\n",
       "      <td>0</td>\n",
       "      <td>3.972177</td>\n",
       "      <td>1</td>\n",
       "      <td>0</td>\n",
       "      <td>3</td>\n",
       "      <td>6</td>\n",
       "    </tr>\n",
       "    <tr>\n",
       "      <th>4</th>\n",
       "      <td>0</td>\n",
       "      <td>3</td>\n",
       "      <td>1</td>\n",
       "      <td>35</td>\n",
       "      <td>0</td>\n",
       "      <td>0</td>\n",
       "      <td>2.085672</td>\n",
       "      <td>0</td>\n",
       "      <td>0</td>\n",
       "      <td>8</td>\n",
       "      <td>5</td>\n",
       "    </tr>\n",
       "  </tbody>\n",
       "</table>\n",
       "</div>"
      ],
      "text/plain": [
       "   Survived Pclass Sex  Age  SibSp  Parch      Fare Cabin Embarked  Deck Title\n",
       "0         0      3   1   22      1      0  1.981001     0        0     8     5\n",
       "1         1      1   0   38      1      0  4.266662     1        1     3     6\n",
       "2         1      3   0   26      0      0  2.070022     0        0     8     7\n",
       "3         1      1   0   35      1      0  3.972177     1        0     3     6\n",
       "4         0      3   1   35      0      0  2.085672     0        0     8     5"
      ]
     },
     "execution_count": 102,
     "metadata": {},
     "output_type": "execute_result"
    }
   ],
   "source": [
    "dummy = train.drop('Name', axis = 1) #dropping Name since I haven't done anything with it yet\n",
    "dummy.head()\n",
    "\n",
    "# One-hot encode the data using pandas get_dummies\n",
    "#traindummy = pd.get_dummies(traindummy)"
   ]
  },
  {
   "cell_type": "markdown",
   "metadata": {},
   "source": [
    "### Step 2:\n",
    "Build your models: Please build classification models in Python to predict the Survived binary status assigned to a passenger. When writing the code associated with each model, please have the first part produce and save the model, followed by a second part that loads and applies the model."
   ]
  },
  {
   "cell_type": "code",
   "execution_count": 27,
   "metadata": {},
   "outputs": [],
   "source": [
    "#make train and test\n",
    "labels = np.array(dummy['Survived'])\n",
    "features = dummy.drop('Survived', axis = 1)\n",
    "rs = 100\n",
    "\n",
    "from sklearn.model_selection import train_test_split\n",
    "train_features, test_features, train_labels, test_labels = train_test_split(features, labels, test_size = 0.25, random_state = rs)"
   ]
  },
  {
   "cell_type": "code",
   "execution_count": 69,
   "metadata": {},
   "outputs": [
    {
     "name": "stdout",
     "output_type": "stream",
     "text": [
      "Accuracy: 80.72 %.\n"
     ]
    }
   ],
   "source": [
    "# Logistic Regression\n",
    "from sklearn.linear_model import LogisticRegression\n",
    "logreg = LogisticRegression(random_state=rs)\n",
    "logreg.fit(train_features, train_labels)\n",
    "pred1 = logreg.predict(test_features)\n",
    "acc_log = round(logreg.score(test_features, test_labels) * 100, 2)\n",
    "print('Accuracy:', acc_log, '%.')"
   ]
  },
  {
   "cell_type": "code",
   "execution_count": 29,
   "metadata": {},
   "outputs": [
    {
     "name": "stdout",
     "output_type": "stream",
     "text": [
      "77.58\n",
      "74.44\n",
      "80.72\n",
      "80.27\n"
     ]
    }
   ],
   "source": [
    "# #Comparing different Support Vector Machines methods\n",
    "# from sklearn import svm\n",
    "# C = 1.0  # SVM regularization parameter\n",
    "# svc = svm.SVC(kernel='linear', C=C,random_state=rs).fit(train_features, train_labels)\n",
    "# rbf_svc = svm.SVC(kernel='rbf', gamma=0.7, C=C,random_state=rs).fit(train_features, train_labels)\n",
    "# poly_svc = svm.SVC(kernel='poly', degree=3, C=C,random_state=rs).fit(train_features, train_labels)\n",
    "# lin_svc = svm.LinearSVC(C=C,random_state=rs).fit(train_features, train_labels)\n",
    "\n",
    "# print(round(svc.score(test_features, test_labels) * 100, 2))\n",
    "# print(round(rbf_svc.score(test_features, test_labels) * 100, 2))\n",
    "# print(round(poly_svc.score(test_features, test_labels) * 100, 2))\n",
    "# print(round(lin_svc.score(test_features, test_labels) * 100, 2))"
   ]
  },
  {
   "cell_type": "code",
   "execution_count": 66,
   "metadata": {},
   "outputs": [
    {
     "name": "stdout",
     "output_type": "stream",
     "text": [
      "Accuracy: 80.72 %.\n"
     ]
    }
   ],
   "source": [
    "# #Polynomial Support Vector Classification\n",
    "# from sklearn.svm import SVC\n",
    "# svc = SVC(C=.8, kernel='poly',random_state=rs)\n",
    "# #A low C makes the decision surface smooth, while a high C aims at classifying all training examples correctly.\n",
    "# #gamma defines how much influence a single training example has.\n",
    "# #The larger gamma is, the closer other examples must be to be affected.\n",
    "# svc.fit(train_features, train_labels)\n",
    "# pred2 = svc.predict(test_features)\n",
    "# acc_svc = round(svc.score(test_features, test_labels) * 100, 2)\n",
    "# print('Accuracy:', acc_svc, '%.')"
   ]
  },
  {
   "cell_type": "code",
   "execution_count": 70,
   "metadata": {},
   "outputs": [
    {
     "name": "stdout",
     "output_type": "stream",
     "text": [
      "Accuracy: 76.68 %.\n"
     ]
    }
   ],
   "source": [
    "#K-Nearest Neighbors\n",
    "from sklearn.neighbors import KNeighborsClassifier\n",
    "knn = KNeighborsClassifier(algorithm='auto', leaf_size=20, metric='minkowski', \n",
    "                           metric_params=None, n_jobs=1, n_neighbors=10, p=2, weights='uniform')\n",
    "knn.fit(train_features, train_labels)\n",
    "pred3 = knn.predict(test_features)\n",
    "acc_knn = round(knn.score(test_features, test_labels) * 100, 2)\n",
    "print('Accuracy:', acc_knn, '%.')"
   ]
  },
  {
   "cell_type": "code",
   "execution_count": 71,
   "metadata": {},
   "outputs": [
    {
     "name": "stdout",
     "output_type": "stream",
     "text": [
      "Accuracy: 78.92 %.\n"
     ]
    }
   ],
   "source": [
    "#Linear Model with Stochastic Gradient Descent\n",
    "from sklearn.linear_model import SGDClassifier\n",
    "sgd = SGDClassifier(random_state=rs)\n",
    "sgd.fit(train_features, train_labels)\n",
    "pred4 = sgd.predict(test_features)\n",
    "acc_sgd = round(sgd.score(test_features, test_labels) * 100, 2)\n",
    "print('Accuracy:', acc_sgd, '%.')"
   ]
  },
  {
   "cell_type": "code",
   "execution_count": 72,
   "metadata": {},
   "outputs": [
    {
     "name": "stdout",
     "output_type": "stream",
     "text": [
      "Accuracy: 80.27 %.\n"
     ]
    }
   ],
   "source": [
    "#Decision Tree\n",
    "from sklearn.tree import DecisionTreeClassifier\n",
    "decision_tree = DecisionTreeClassifier(max_depth=3, random_state=rs)\n",
    "decision_tree.fit(train_features, train_labels)\n",
    "pred5 = decision_tree.predict(test_features)\n",
    "acc_decision_tree = round(decision_tree.score(test_features, test_labels) * 100, 2)\n",
    "print('Accuracy:', acc_decision_tree, '%.')"
   ]
  },
  {
   "cell_type": "code",
   "execution_count": 64,
   "metadata": {},
   "outputs": [
    {
     "name": "stdout",
     "output_type": "stream",
     "text": [
      "Accuracy: 76.23 %.\n"
     ]
    }
   ],
   "source": [
    "#AdaBoost\n",
    "from sklearn.ensemble import AdaBoostClassifier\n",
    "ada = AdaBoostClassifier(base_estimator=decision_tree, n_estimators=180, random_state=rs)\n",
    "ada.fit(train_features, train_labels)\n",
    "pred6 = ada.predict_proba(test_features)[:,1]\n",
    "acc = sum(np.round(pred6,0).astype(int) == test_labels)/len(test_labels) *100\n",
    "print('Accuracy:', round(acc, 2), '%.')"
   ]
  },
  {
   "cell_type": "code",
   "execution_count": 73,
   "metadata": {},
   "outputs": [
    {
     "name": "stdout",
     "output_type": "stream",
     "text": [
      "Accuracy: 83.86 %.\n"
     ]
    }
   ],
   "source": [
    "#RandomForest\n",
    "from sklearn.ensemble import RandomForestClassifier\n",
    "random_forest = RandomForestClassifier(n_estimators=1000, random_state = rs)\n",
    "random_forest.fit(train_features, train_labels)\n",
    "pred7 = random_forest.predict(test_features)\n",
    "acc_random_forest = round(random_forest.score(test_features, test_labels) * 100, 2)\n",
    "print('Accuracy:', acc_random_forest, '%.')"
   ]
  },
  {
   "cell_type": "code",
   "execution_count": 36,
   "metadata": {},
   "outputs": [
    {
     "data": {
      "image/png": "[encoded data removed]",
      "text/plain": [
       "<Figure size 432x288 with 1 Axes>"
      ]
     },
     "metadata": {},
     "output_type": "display_data"
    }
   ],
   "source": [
    "#Looking at the important features of Random Forest results\n",
    "importances_rf = pd.Series(random_forest.feature_importances_,index = features.columns)\n",
    "sorted_importances_rf = importances_rf.sort_values()\n",
    "sorted_importances_rf.plot(kind='barh', color='blue')\n",
    "plt.show()"
   ]
  },
  {
   "cell_type": "code",
   "execution_count": 37,
   "metadata": {},
   "outputs": [
    {
     "name": "stdout",
     "output_type": "stream",
     "text": [
      "Hard Voting Classifier: 83.408\n"
     ]
    },
    {
     "name": "stderr",
     "output_type": "stream",
     "text": [
      "/Users/anneitrheim/anaconda3/lib/python3.6/site-packages/sklearn/preprocessing/label.py:151: DeprecationWarning: The truth value of an empty array is ambiguous. Returning False, but in future this will result in an error. Use `array.size > 0` to check that an array is not empty.\n",
      "  if diff:\n"
     ]
    }
   ],
   "source": [
    "# #Voting Classifier\n",
    "# classifiers = [('Logistic Regression', logreg), ('SVC', svc), ('Classification Tree', decision_tree),\n",
    "#                ('Random Forest',random_forest), ('KNeighborsClassifier', knn), ('SGDClassifier', sgd)]\n",
    "\n",
    "# from sklearn.ensemble import VotingClassifier\n",
    "# from sklearn.metrics import accuracy_score\n",
    "# vc = VotingClassifier(estimators=classifiers, voting='hard')     \n",
    "# vc.fit(train_features, train_labels)  \n",
    "# pred8 = vc.predict(test_features)\n",
    "# accuracy = accuracy_score(test_labels, pred8)\n",
    "# print('Hard Voting Classifier: {:.3f}'.format(accuracy*100))"
   ]
  },
  {
   "cell_type": "code",
   "execution_count": 44,
   "metadata": {},
   "outputs": [
    {
     "name": "stdout",
     "output_type": "stream",
     "text": [
      "LogRegr 0.8002457155827942\n",
      "DecisionTree 0.809208659630008\n",
      "RandomForest 0.8059011462944048\n"
     ]
    }
   ],
   "source": [
    "#Evaluating the models with the best accuracy using 10-fold cross-validation\n",
    "from sklearn.cross_validation import cross_val_score\n",
    "scores = cross_val_score(LogisticRegression(random_state=rs), features, labels, scoring='accuracy', cv=10)\n",
    "print('LogRegr', scores.mean())\n",
    "# scores = cross_val_score(SVC(C=.8, kernel='poly',random_state=rs), features, labels, scoring='accuracy', cv=10)\n",
    "# print('PolySVC', scores.mean())\n",
    "scores = cross_val_score(DecisionTreeClassifier(max_depth=3, random_state=rs), features, labels, scoring='accuracy', cv=10)\n",
    "print('DecisionTree', scores.mean())\n",
    "# scores = cross_val_score(VotingClassifier(), features, labels, scoring='accuracy', cv=10)\n",
    "# print('VotingClassifier', scores.mean())\n",
    "scores = cross_val_score(RandomForestClassifier(n_estimators=100, random_state=rs), features, labels, scoring='accuracy', cv=10)\n",
    "print('RandomForest', scores.mean())"
   ]
  },
  {
   "cell_type": "code",
   "execution_count": 74,
   "metadata": {},
   "outputs": [
    {
     "name": "stdout",
     "output_type": "stream",
     "text": [
      "Accuracy: 83.41 %.\n",
      "Test set RMSE: 0.41\n"
     ]
    }
   ],
   "source": [
    "ensemble_results = np.round((pred1 + pred2 + pred3 + pred4 + pred5 + pred7)/6,0).astype(int)\n",
    "acc = sum(ensemble_results == test_labels)/len(test_labels) *100\n",
    "print('Accuracy:', round(acc, 2), '%.')\n",
    "\n",
    "from sklearn.metrics import mean_squared_error as MSE\n",
    "mse_dt = MSE(test_labels, ensemble_results)\n",
    "rmse_dt = mse_dt**(1/2)\n",
    "print(\"Test set RMSE: {:.2f}\".format(rmse_dt))"
   ]
  },
  {
   "cell_type": "code",
   "execution_count": 75,
   "metadata": {
    "scrolled": false
   },
   "outputs": [
    {
     "data": {
      "text/plain": [
       "Text(0.5,16,'Predicted label')"
      ]
     },
     "execution_count": 75,
     "metadata": {},
     "output_type": "execute_result"
    },
    {
     "data": {
      "image/png": "[encoded data removed]",
      "text/plain": [
       "<Figure size 432x288 with 2 Axes>"
      ]
     },
     "metadata": {},
     "output_type": "display_data"
    }
   ],
   "source": [
    "from sklearn import metrics\n",
    "cnf_matrix = metrics.confusion_matrix(test_labels, ensemble_results)\n",
    "sns.heatmap(pd.DataFrame(cnf_matrix), annot=True, cmap=\"YlGnBu\" ,fmt='g')\n",
    "ax.xaxis.set_label_position(\"top\")\n",
    "plt.tight_layout()\n",
    "plt.title('Confusion matrix', y=1.1)\n",
    "plt.ylabel('Actual label')\n",
    "plt.xlabel('Predicted label')"
   ]
  },
  {
   "cell_type": "markdown",
   "metadata": {},
   "source": [
    "### Step 3:\n",
    "Test your models using the data found within the \"Holdout_testing\" file. Save the results of the final model (remember you will only predict the Survived column in holdout test set with your best model results) in a single, separate CSV titled \"Titanic Results from\" *insert your name or UChicago net ID."
   ]
  },
  {
   "cell_type": "code",
   "execution_count": 103,
   "metadata": {},
   "outputs": [],
   "source": [
    "PassengerId = test.PassengerId\n",
    "test = test.drop('Name', axis = 1)\n",
    "test = test.drop('Survived', axis = 1)\n",
    "test = test.drop('PassengerId', axis = 1)"
   ]
  },
  {
   "cell_type": "code",
   "execution_count": 104,
   "metadata": {},
   "outputs": [],
   "source": [
    "logreg.fit(train_features, train_labels)\n",
    "pred1 = logreg.predict(test)\n",
    "\n",
    "svc.fit(train_features, train_labels)\n",
    "pred2 = svc.predict(test)\n",
    "\n",
    "knn.fit(train_features, train_labels)\n",
    "pred3 = knn.predict(test)\n",
    "\n",
    "sgd.fit(train_features, train_labels)\n",
    "pred4 = sgd.predict(test)\n",
    "\n",
    "decision_tree.fit(train_features, train_labels)\n",
    "pred5= decision_tree.predict(test)\n",
    "\n",
    "ada.fit(train_features, train_labels)\n",
    "pred6 = ada.predict(test)\n",
    "\n",
    "random_forest.fit(train_features, train_labels)\n",
    "pred7 = random_forest.predict(test)\n",
    "\n",
    "ensemble_results = np.round((pred1 + pred2 + pred3 + pred4 + pred5 + pred6 + pred7)/7,0).astype(int)\n",
    "\n",
    "Submission = pd.DataFrame()\n",
    "Submission['PassengerId'] = PassengerId\n",
    "Submission['Survived'] = ensemble_results\n",
    "\n",
    "Submission.to_csv(\"Titanic Results from eitrheim.csv\", index=False)"
   ]
  },
  {
   "cell_type": "markdown",
   "metadata": {},
   "source": [
    "### Step 4:\n",
    "Submit your work: Please submit all of your code for cleaning, prepping, and modeling your data, your \"Results\" file, a brief write-up comparing the pros and cons of the modeling techniques you used (no more than a paragraph). Your work will be scored on techniques used (appropriateness and complexity), model performance - measured by accuracy precision and F score - on the data hold out, an understanding of the techniques you compared in your write-up, and your overall code."
   ]
  },
  {
   "cell_type": "markdown",
   "metadata": {},
   "source": [
    "Running the Polynomial Support Vector Classification and Voting Classifation takes a really long time and the results were not better than random forest. I would sometimes get a higher result (or equal to random forest) when combining all of the the results in an ensemble method so that is what I used for the final model. A downside of that it takes a long time to run to get the results (I ran all the models to get it). Additionally, I can not easily see what columns lead to the decisions, like I can with logistic regression which can be written as a equation and is pretty accurate."
   ]
  }
 ],
 "metadata": {
  "kernelspec": {
   "display_name": "Python 3",
   "language": "python",
   "name": "python3"
  },
  "language_info": {
   "codemirror_mode": {
    "name": "ipython",
    "version": 3
   },
   "file_extension": ".py",
   "mimetype": "text/x-python",
   "name": "python",
   "nbconvert_exporter": "python",
   "pygments_lexer": "ipython3",
   "version": "3.6.8"
  }
 },
 "nbformat": 4,
 "nbformat_minor": 2
}
